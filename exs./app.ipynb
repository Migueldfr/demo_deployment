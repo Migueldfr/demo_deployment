{
 "cells": [
  {
   "cell_type": "code",
   "execution_count": 10,
   "metadata": {},
   "outputs": [],
   "source": [
    "# con esto comprobamos sin en la base de datos advertising.db esta la tabla campañas\n",
    "def check_table_exists(table_name):\n",
    "    connection = sqlite3.connect('advertising.db')\n",
    "    cursor = connection.cursor()\n",
    "    query = f\"SELECT name FROM sqlite_master WHERE type='table' AND name='{table_name}'\"\n",
    "    cursor.execute(query)\n",
    "    result = cursor.fetchone()\n",
    "    connection.close()\n",
    "    if result:\n",
    "        return True\n",
    "    else:\n",
    "        return False\n"
   ]
  },
  {
   "cell_type": "code",
   "execution_count": 11,
   "metadata": {},
   "outputs": [
    {
     "data": {
      "text/plain": [
       "True"
      ]
     },
     "execution_count": 11,
     "metadata": {},
     "output_type": "execute_result"
    }
   ],
   "source": [
    "check_table_exists('campañas')"
   ]
  },
  {
   "cell_type": "code",
   "execution_count": 2,
   "metadata": {},
   "outputs": [],
   "source": [
    "import pandas as pd\n",
    "results = pd.DataFrame({\"repository\":[\"https://github.com/Migueldfr/demo_deployment.git\"], \n",
    "                        'url':['http://migueldfr.pythonanywhere.com/']})\n",
    "\n"
   ]
  },
  {
   "cell_type": "code",
   "execution_count": 8,
   "metadata": {},
   "outputs": [],
   "source": [
    "result = results.to_json('../data/url.json',orient=\"split\")\n",
    "result"
   ]
  }
 ],
 "metadata": {
  "kernelspec": {
   "display_name": "Python 3.10 (toolkit)",
   "language": "python",
   "name": "toolkit"
  },
  "language_info": {
   "codemirror_mode": {
    "name": "ipython",
    "version": 3
   },
   "file_extension": ".py",
   "mimetype": "text/x-python",
   "name": "python",
   "nbconvert_exporter": "python",
   "pygments_lexer": "ipython3",
   "version": "3.10.9"
  },
  "orig_nbformat": 4,
  "vscode": {
   "interpreter": {
    "hash": "9697e0bc1541cdb118f290ffd00af10e46153bc61f7a73dfca0854a70f6e6693"
   }
  }
 },
 "nbformat": 4,
 "nbformat_minor": 2
}
